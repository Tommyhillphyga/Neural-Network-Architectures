{
 "cells": [
  {
   "cell_type": "code",
   "execution_count": 1,
   "id": "2b51fa2b",
   "metadata": {},
   "outputs": [],
   "source": [
    "import torch\n",
    "import cv2\n",
    "import numpy\n",
    "import torch.nn as nn\n",
    "import torch.nn.functional as F"
   ]
  },
  {
   "cell_type": "markdown",
   "id": "1b97a816",
   "metadata": {},
   "source": [
    "# Dymically generate residual blocks "
   ]
  },
  {
   "cell_type": "code",
   "execution_count": null,
   "id": "4e531bd5",
   "metadata": {},
   "outputs": [],
   "source": [
    "class ResBlock(nn.Module):\n",
    "    def __init__(self, n_channels):\n",
    "        super(ResBlock, self).__init__()\n",
    "        self.conv = nn.Conv2d(n_channels, n_channels, kernel_size=3, padding=1, bias=False)\n",
    "        self.batch_norm = nn.BatchNorm2d(num_features= n_channels)\n",
    "        torch.nn.init.kaiming_normal_(self.conv.weight, nonlinearity='relu')\n",
    "        torch.nn.init.constant_(self.batch_norm.weight, 0.5)\n",
    "        torch.nn.init.zeros_(self.batch_norm.bias)\n",
    "        \n",
    "    def forward(self, x):\n",
    "        out = self.conv(x)\n",
    "        out = self.batch_norm(out)\n",
    "        out = torch.relu(out) \n",
    "#         print(out.shape)\n",
    "        return out + x\n",
    "    \n",
    "class NetResDeep(nn.Module):\n",
    "    def __init__(self, n_channel1=32, n_blocks=10):\n",
    "        super().__init__()\n",
    "        self.nchannel1 = n_channel1\n",
    "        self.Conv1 = nn.Conv2d(3, n_channel1, kernel_size=3, padding=1)\n",
    "        self.resblocks = nn.Sequential(*(n_blocks*[ResBlock(self.nchannel1)]))\n",
    "        self.fc1 = nn.Linear(n_channel1*60*60, 32)\n",
    "        self.fc2 = nn.Linear(32,2)\n",
    "        \n",
    "    def forward(self, x):\n",
    "        out = F.max_pool2d(torch.relu(self.Conv1(x)), 2)\n",
    "        out = self.resblocks(out)\n",
    "        out = F.max_pool2d(out, 2)\n",
    "        out = out.view(-1, 60 * 60 * self.nchannel1)\n",
    "        out = torch.relu(self.fc1(out))\n",
    "        out = self.fc2(out)\n",
    "        \n",
    "        return out"
   ]
  },
  {
   "cell_type": "markdown",
   "id": "91fea432",
   "metadata": {},
   "source": [
    "# call block"
   ]
  },
  {
   "cell_type": "code",
   "execution_count": null,
   "id": "1b262835",
   "metadata": {},
   "outputs": [],
   "source": [
    "model = NetResDeep()\n",
    "output = model(img.unsqueeze(0))"
   ]
  }
 ],
 "metadata": {
  "kernelspec": {
   "display_name": "Python 3 (ipykernel)",
   "language": "python",
   "name": "python3"
  },
  "language_info": {
   "codemirror_mode": {
    "name": "ipython",
    "version": 3
   },
   "file_extension": ".py",
   "mimetype": "text/x-python",
   "name": "python",
   "nbconvert_exporter": "python",
   "pygments_lexer": "ipython3",
   "version": "3.9.13"
  }
 },
 "nbformat": 4,
 "nbformat_minor": 5
}
